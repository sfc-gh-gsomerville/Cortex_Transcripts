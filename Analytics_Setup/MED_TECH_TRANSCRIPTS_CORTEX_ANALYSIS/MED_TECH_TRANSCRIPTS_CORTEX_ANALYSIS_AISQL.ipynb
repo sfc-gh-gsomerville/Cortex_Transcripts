{
 "metadata": {
  "kernelspec": {
   "display_name": "Streamlit Notebook",
   "name": "streamlit"
  },
  "lastEditStatus": {
   "notebookId": "l62kq4vvmn5so7krm73d",
   "authorId": "260115209324",
   "authorName": "GSOMERVILLE",
   "authorEmail": "geoff.somerville@snowflake.com",
   "sessionId": "63fd065e-4a33-4791-8389-f98aba3f4c95",
   "lastEditTime": 1758219679305
  }
 },
 "nbformat_minor": 5,
 "nbformat": 4,
 "cells": [
  {
   "cell_type": "markdown",
   "id": "19ba3b69-73c7-4cf4-a1d3-02a0a9f74cb9",
   "metadata": {
    "name": "title",
    "collapsed": false
   },
   "source": "# Analyzing Unstructured Data with AISQL and Cortex LLM Functions\n\n## Summary\n\nThis document explores how to leverages Snowflake's AISQL & Cortex LLM functions to analyze customer support call transcripts. The script performs various analyses including sentiment analysis, device categorization, issue extraction, resolution determination, and customer service rating. The results are organized into dynamic tables that automatically refresh when source data changes.\n\n### Setting the Session Context\n"
  },
  {
   "cell_type": "code",
   "id": "3775908f-ca36-4846-8f38-5adca39217f2",
   "metadata": {
    "language": "python",
    "name": "setup"
   },
   "source": "# Import python packages\nimport streamlit as st\nimport pandas as pd\n\n# We can also use Snowpark for our analyses!\nfrom snowflake.snowpark.context import get_active_session\nsession = get_active_session()\nprint(session)\n",
   "execution_count": null,
   "outputs": []
  },
  {
   "cell_type": "markdown",
   "id": "4164f837-22d0-4330-9e6f-e2a79170d057",
   "metadata": {
    "name": "Raw_Data_Description",
    "collapsed": false
   },
   "source": "## Raw Data\n\nLet's look at the raw data in the underlying table first so we know what we are querying.\n- First we will look at the raw JSON files within the Snowflake stage\n- Next we will look at the JSON files parsed into a structured table"
  },
  {
   "cell_type": "code",
   "id": "a47c4c20-e4f6-474a-ac41-6af2d5279a08",
   "metadata": {
    "language": "sql",
    "name": "Raw_Files"
   },
   "outputs": [],
   "source": " LIST @MED_DEVICE_TRANSCRIPTS.DATA_PREP.CALL_DATA_NEW;",
   "execution_count": null
  },
  {
   "cell_type": "code",
   "id": "56a0607b-1dcd-4f34-9d90-fa3dd42bf7fb",
   "metadata": {
    "language": "sql",
    "name": "Raw_Data"
   },
   "outputs": [],
   "source": "SELECT * FROM parsed_transcripts LIMIT 10",
   "execution_count": null
  },
  {
   "cell_type": "markdown",
   "id": "a6fcc4c7-c87b-4db5-8ee4-2b92db92245e",
   "metadata": {
    "name": "LLM_Functions_Intro",
    "collapsed": false
   },
   "source": "## Script Components\n\n### 1. Individual AISQL & Cortex LLM Function Queries\n\nThe script begins with several standalone queries that demonstrate individual functions:\n\n#### Transcript Summarization\nThis query uses the `SUMMARIZE` function to generate concise summaries of each transcript.(https://docs.snowflake.com/en/sql-reference/functions/summarize-snowflake-cortex)"
  },
  {
   "cell_type": "code",
   "id": "8d50cbf4-0c8d-4950-86cb-114990437ac9",
   "metadata": {
    "language": "sql",
    "name": "Cortex_Summarize"
   },
   "source": "SELECT\n  conversation_id,\n  transcript,\n  SNOWFLAKE.CORTEX.SUMMARIZE(transcript) as transcript_summary\nFROM parsed_transcripts\nLIMIT 10;",
   "execution_count": null,
   "outputs": []
  },
  {
   "cell_type": "markdown",
   "id": "74a2c266-6bfa-4d63-ac99-ac952eb494c1",
   "metadata": {
    "name": "AI_SUMMARIZE_Description",
    "collapsed": false
   },
   "source": "## AI_Summarize_AGG\nSummarizes a column of text data. For example, AI_SUMMARIZE_AGG(churn_reason) will return a summary of the churn_reason column.Unlike AI_COMPLETE and SUMMARIZE (SNOWFLAKE.CORTEX), this function supports datasets larger than the maximum language model context window. (https://docs.snowflake.com/en/sql-reference/functions/ai_summarize_agg)"
  },
  {
   "cell_type": "code",
   "id": "754e6721-b222-470f-a9d4-451fdacbf717",
   "metadata": {
    "language": "sql",
    "name": "AI_SUMMARIZE"
   },
   "outputs": [],
   "source": "SELECT\n  AGENT_NAME,\n  AI_SUMMARIZE_AGG('How well has this agent done providig customer service in 25 words or less' || transcript) as agent_transcript_summary\nFROM parsed_transcripts\nGROUP BY AGENT_NAME;",
   "execution_count": null
  },
  {
   "cell_type": "markdown",
   "id": "0c1921ce-867d-4b28-9814-87445bd17aee",
   "metadata": {
    "name": "SENTIMENT_DESC",
    "collapsed": false
   },
   "source": "#### Sentiment Analysis\nThis query uses the `SENTIMENT` function to analyze the emotional tone of each transcript and categorize it as Positive, Negative, or Neutral based on score thresholds.(https://docs.snowflake.com/en/sql-reference/functions/sentiment-snowflake-cortex)"
  },
  {
   "cell_type": "code",
   "id": "c695373e-ac74-4b62-a1f1-08206cbd5c81",
   "metadata": {
    "language": "sql",
    "name": "CORTEX_SENTUMENT"
   },
   "source": "SELECT\n  conversation_id,\n  SNOWFLAKE.CORTEX.SENTIMENT(transcript) as sentiment_score,\n  CASE\n    WHEN SNOWFLAKE.CORTEX.SENTIMENT(transcript) > 0.33 THEN 'Positive'\n    WHEN SNOWFLAKE.CORTEX.SENTIMENT(transcript) < -0.33 THEN 'Negative'\n    ELSE 'Neutral'\n  END as sentiment_category\nFROM parsed_transcripts\nLIMIT 10;",
   "execution_count": null,
   "outputs": []
  },
  {
   "cell_type": "markdown",
   "id": "041598d3-3135-43d8-b33f-fcf60cd6b741",
   "metadata": {
    "name": "AI_SENTIMENT_DESC",
    "collapsed": false
   },
   "source": "#### Sentiment Analysis - AI_SENTIMENT\nThis query uses the `AI_SENTIMENT` function to analyze the emotional tone of each transcript by various categories like 'agent interaction', 'problem resolution' and 'overall' categories.  You can still use the `SENTIMENT` functioin in the same query to categorize the overall interaction as Positive, Negative, or Neutral based on score thresholds.(https://docs.snowflake.com/en/sql-reference/functions/ai_sentiment)\n"
  },
  {
   "cell_type": "code",
   "id": "00330531-ae74-4dd3-a28a-1e3c8791d95d",
   "metadata": {
    "language": "sql",
    "name": "AI_SENTIMENT"
   },
   "outputs": [],
   "source": "SELECT\n  conversation_id,\n  AI_SENTIMENT(transcript, ['agent interaction', 'problem resolution', 'overall']) as sentiment_score,\n  CASE\n    WHEN SNOWFLAKE.CORTEX.SENTIMENT(transcript) > 0.33 THEN 'Positive'\n    WHEN SNOWFLAKE.CORTEX.SENTIMENT(transcript) < -0.33 THEN 'Negative'\n    ELSE 'Neutral'\n  END as sentiment_category\nFROM parsed_transcripts\nLIMIT 10;",
   "execution_count": null
  },
  {
   "cell_type": "markdown",
   "id": "9e7102b4-2256-432f-a3c5-d96b3244b596",
   "metadata": {
    "name": "CORTEX_CLASSIFY_DESC",
    "collapsed": false
   },
   "source": "#### Device Categorization\nThis query uses the `CLASSIFY_TEXT` function to categorize each transcript into one of several medical device categories. (https://docs.snowflake.com/en/sql-reference/functions/classify_text-snowflake-cortex)"
  },
  {
   "cell_type": "code",
   "id": "98df6352-6352-4b19-9a5e-67db68d9be86",
   "metadata": {
    "language": "sql",
    "name": "CORTEX_CLASSIFY"
   },
   "outputs": [],
   "source": "SELECT\n  conversation_id,\n  SNOWFLAKE.CORTEX.CLASSIFY_TEXT(\n    transcript, \n    ['Diabetes', 'Respiratory', 'Mobility', 'Urology', 'Pain Management', 'Monitoring', 'Orthopedic', 'Nutrition', 'Infusion', 'Wound Care']\n    )['label'] as device_category\nFROM parsed_transcripts\nLIMIT 10;",
   "execution_count": null
  },
  {
   "cell_type": "markdown",
   "id": "7ee215cf-04ca-440c-9a33-112981cf3386",
   "metadata": {
    "name": "AI_CLASSIFY_DESC",
    "collapsed": false
   },
   "source": "#### Device Categorization - AI_CLASSIFY\nThis query uses the `AI_CLASSIFY` function to categorize each transcript into one of several medical device categories. (https://docs.snowflake.com/en/sql-reference/functions/ai_classify)"
  },
  {
   "cell_type": "code",
   "id": "2d05b6ea-427e-43e2-827f-413b6f8d11a0",
   "metadata": {
    "language": "sql",
    "name": "AI_CLASSIFY"
   },
   "outputs": [],
   "source": "SELECT\n  conversation_id,\n  AI_CLASSIFY(\n    transcript, \n    ['Diabetes', 'Respiratory', 'Mobility', 'Urology', 'Pain Management', 'Monitoring', 'Orthopedic', 'Nutrition', 'Infusion', 'Wound Care'], \n    {'output_mode': 'multi'}\n  ) as device_category,\n  ARRAY_TO_STRING(device_category::VARIANT:labels, ', ') AS parsed_device_category\nFROM parsed_transcripts\nLIMIT 10;",
   "execution_count": null
  },
  {
   "cell_type": "markdown",
   "id": "14f849aa-8e19-411e-aef7-ff4a69a8f8fa",
   "metadata": {
    "name": "CORTEX_EXTRACT_ANSWER_DESC",
    "collapsed": false
   },
   "source": "#### Main Issue Extraction\nThis query uses the `EXTRACT_ANSWER` function to identify the main issue discussed in each transcript, returning the result as a JSON object containing the answer and a confidence score. (https://docs.snowflake.com/en/sql-reference/functions/extract_answer-snowflake-cortex)"
  },
  {
   "cell_type": "code",
   "id": "980d1de6-cd00-48dd-b8fd-d5fc1d2f19d3",
   "metadata": {
    "language": "sql",
    "name": "CORTEX_EXTRACT_ANSWER"
   },
   "outputs": [],
   "source": "SELECT\n  conversation_id,\n  SNOWFLAKE.CORTEX.EXTRACT_ANSWER(transcript, 'What is the main issue?') as main_issue_json\nFROM parsed_transcripts\nLIMIT 10;",
   "execution_count": null
  },
  {
   "cell_type": "markdown",
   "id": "83fe308e-c346-47a8-a652-5dfcb3dbebf1",
   "metadata": {
    "name": "CORTEX_COMPLETE_DESC",
    "collapsed": false
   },
   "source": "#### Resolution Determination\nThis query uses the `COMPLETE` function with a system prompt to determine if the customer's issue was resolved, categorizing it as Resolved, Unresolved, or Partial, with a brief explanation. (https://docs.snowflake.com/en/sql-reference/functions/complete-snowflake-cortex)"
  },
  {
   "cell_type": "code",
   "id": "8da9a055-5b92-4281-94ed-1c633656a611",
   "metadata": {
    "language": "sql",
    "name": "Cortex_Complete_example1"
   },
   "outputs": [],
   "source": "SELECT\n  conversation_id,\n  SNOWFLAKE.CORTEX.COMPLETE(\n    'mistral-large2',\n    [\n      {'role': 'system', 'content': 'You are a customer service quality analyst. \n        Analyze customer service transcripts and determine if the customer\\'s issue was resolved. \n        Respond with exactly one word (\"Resolved\", \"Unresolved\", or \"Partial\") followed by a colon and 10 words or less explaining why.'},\n      {'role': 'user', 'content': transcript}\n    ],\n    {'temperature': 0, 'max_tokens': 25}\n  )['choices'][0]['messages']::STRING as resolution_with_reason\nFROM parsed_transcripts\nLIMIT 10;",
   "execution_count": null
  },
  {
   "cell_type": "markdown",
   "id": "b328b125-4f37-439c-b93a-470eacce4eb9",
   "metadata": {
    "name": "CORTEX_COMPLETE_ex2_DESC",
    "collapsed": false
   },
   "source": "#### Customer Service Rating\nThis query uses the `COMPLETE` function to rate the customer service experience on a scale of 0-10, with a brief explanation for the rating."
  },
  {
   "cell_type": "code",
   "id": "906686f8-3597-4175-8e40-fb5ecb843df7",
   "metadata": {
    "language": "sql",
    "name": "Cortex_Complete_example2"
   },
   "outputs": [],
   "source": "SELECT\n  conversation_id,\n  SNOWFLAKE.CORTEX.COMPLETE(\n    'claude-4-sonnet',\n    CONCAT('Rate the customer service experience from 0 to 10, with 0 being very poor support without       resolution and 10 being highly supportive and complete resolution of the issue and a completely happy customer. Return the results with a single integer for the rating followed by a colon and then a reason for the rating. The reason should be 25 words or less.', transcript)\n  ) as customer_service_rating\nFROM parsed_transcripts\nLIMIT 10;",
   "execution_count": null
  },
  {
   "cell_type": "markdown",
   "id": "536d6f87-8862-412e-9d0b-0e70c5ca6fc6",
   "metadata": {
    "name": "AI_COMPLETE_DESC",
    "collapsed": false
   },
   "source": "#### Customer Service Rating - AI_COMPLETE\nThis query uses the `AI_COMPLETE` function to rate the customer service experience on a scale of 0-10, with a brief explanation for the rating. (https://docs.snowflake.com/en/sql-reference/functions/ai_complete-single-string)"
  },
  {
   "cell_type": "code",
   "id": "d53e40fd-7caa-47ae-8cd9-27e06062fb1b",
   "metadata": {
    "language": "sql",
    "name": "AI_COMPLETE"
   },
   "outputs": [],
   "source": "SELECT\n  conversation_id,\n  AI_COMPLETE(\n    model => 'claude-4-sonnet',\n    prompt => CONCAT('Rate the customer service experience from 0 to 10, with 0 being very poor support without resolution and 10 being highly supportive and complete resolution of the issue and a completely happy customer. The reason should be 25 words or less.', transcript),\n    response_format => {\n        'type':'json',\n        'schema':{'type':'object','properties' : {'service_rating':{'type':'object','properties':\n        {'rating':{'type': 'number'},'reason':{'type':'string'}}}}}\n    }\n  ) as customer_service_rating\nFROM parsed_transcripts\nLIMIT 10;",
   "execution_count": null
  },
  {
   "cell_type": "markdown",
   "id": "d4d35227-1b33-42d2-9cf0-06df76fae91b",
   "metadata": {
    "name": "AI_AGG_DESC",
    "collapsed": false
   },
   "source": "#### Transcript summary using AI_AGG\nThis query uses the `AI_AGG` function to provide a summary that includes the device, the main problem and how it was resolved. (https://docs.snowflake.com/en/sql-reference/functions/ai_agg#examples)"
  },
  {
   "cell_type": "code",
   "id": "40256bba-64eb-443e-968b-b3d83105ac28",
   "metadata": {
    "language": "sql",
    "name": "AI_AGG"
   },
   "outputs": [],
   "source": "SELECT\n    conversation_id,\n    AI_AGG(transcript, 'Provide a summary that includes the device, the main problem and how it was resolved') as ISSUE_RESOLUTION\nFROM parsed_transcripts\nGROUP BY 1\nLIMIT 10;",
   "execution_count": null
  },
  {
   "cell_type": "markdown",
   "id": "cf36800c-9dca-4681-9848-3c2640566e05",
   "metadata": {
    "name": "Table_Build_DESC",
    "collapsed": false
   },
   "source": "### 2. Combined Analysis Query\n\nThe script includes a query that combines all the Cortex LLM functions into a single result set:"
  },
  {
   "cell_type": "code",
   "id": "47ce977b-7e91-47d4-b6f7-9fcd41a63e9e",
   "metadata": {
    "language": "sql",
    "name": "COMBINED_TBL"
   },
   "outputs": [],
   "source": "SELECT\n  source,\n  conversation_id,\n  start_time,\n  end_time,\n  agent_name,\n  customer_name,\n  transcript,\n  SNOWFLAKE.CORTEX.SUMMARIZE(transcript) as transcript_summary,\n  SNOWFLAKE.CORTEX.SENTIMENT(transcript) as sentiment_score,\n  CASE\n    WHEN SNOWFLAKE.CORTEX.SENTIMENT(transcript) > 0.33 THEN 'Positive'\n    WHEN SNOWFLAKE.CORTEX.SENTIMENT(transcript) < -0.33 THEN 'Negative'\n    ELSE 'Neutral'\n  END as sentiment_category,\n  SNOWFLAKE.CORTEX.CLASSIFY_TEXT(\n    transcript, \n    ['Diabetes', 'Respiratory', 'Mobility', 'Urology', 'Pain Management', 'Monitoring', 'Orthopedic', 'Nutrition', 'Infusion', 'Wound Care']\n    )['label'] as device_category,\n    SNOWFLAKE.CORTEX.EXTRACT_ANSWER(transcript, 'What is the main issue?') as main_issue_json,\n    SNOWFLAKE.CORTEX.COMPLETE(\n    'mistral-large2',\n    [\n      {'role': 'system', 'content': 'You are a customer service quality analyst. \n        Analyze customer service transcripts and determine if the customer\\'s issue was resolved. \n        Respond with exactly one word (\"Resolved\", \"Unresolved\", or \"Partial\") followed by a colon and 10 words or less explaining why.'},\n      {'role': 'user', 'content': transcript}\n    ],\n    {'temperature': 0, 'max_tokens': 25}\n    )['choices'][0]['messages']::STRING as resolution_with_reason,\n    SNOWFLAKE.CORTEX.COMPLETE(\n    'mistral-large2',\n    CONCAT('Rate the customer service experience from 0 to 10, with 0 being very poor support without resolution \n    and 10 being highly supportive and complete resolution of the issue and a completely happy customer. \n    Return the results with a single integer for the rating followed by a colon and then a reason for the rating.\n    The reason should be 25 words or less.', transcript)\n  ) as customer_service_rating\nFROM parsed_transcripts\nLIMIT 10;",
   "execution_count": null
  },
  {
   "cell_type": "markdown",
   "id": "049a77dd-7736-48aa-bf8b-5ef436f53734",
   "metadata": {
    "name": "Dynamic_Tables_Workflow",
    "collapsed": false
   },
   "source": "### 3. Dynamic Tables\n\nThe script creates several dynamic tables that automatically refresh when source data changes:\n\n#### Transcript Analysis Results\nThis dynamic table combines all the Cortex LLM functions into a single table that automatically refreshes when the source data changes."
  },
  {
   "cell_type": "code",
   "id": "627d33c5-ed10-42dd-afe1-b22882330849",
   "metadata": {
    "language": "sql",
    "name": "Analysis_Results_DynamicTbl"
   },
   "outputs": [],
   "source": "CREATE OR REPLACE DYNAMIC TABLE transcript_analysis_results\n  TARGET_LAG = 'DOWNSTREAM'\n  WAREHOUSE = CORTEX_DEMO_WH\n  REFRESH_MODE = 'AUTO'\nAS\n    SELECT\n    source,\n    conversation_id,\n    start_time,\n    end_time,\n    agent_name,\n    customer_name,\n    transcript,\n    SNOWFLAKE.CORTEX.SUMMARIZE(transcript) as transcript_summary,\n    SNOWFLAKE.CORTEX.SENTIMENT(transcript) as sentiment_score,\n    CASE\n        WHEN SNOWFLAKE.CORTEX.SENTIMENT(transcript) > 0.33 THEN 'Positive'\n        WHEN SNOWFLAKE.CORTEX.SENTIMENT(transcript) < -0.33 THEN 'Negative'\n        ELSE 'Neutral'\n    END as sentiment_category,\n    SNOWFLAKE.CORTEX.CLASSIFY_TEXT(\n        transcript, \n        ['Diabetes', 'Respiratory', 'Mobility', 'Urology', 'Pain Management', 'Monitoring', 'Orthopedic', 'Nutrition', 'Infusion', 'Wound Care','Other']\n        )['label'] as device_category,\n        SNOWFLAKE.CORTEX.EXTRACT_ANSWER(transcript, 'What is the main issue?') as main_issue_json,\n        SNOWFLAKE.CORTEX.COMPLETE(\n        'mistral-large2',\n        [\n        {'role': 'system', 'content': 'You are a customer service quality analyst. \n            Analyze customer service transcripts and determine if the customer\\'s issue was resolved. \n            Respond with exactly one word (\"Resolved\", \"Unresolved\", or \"Partial\") followed by a colon and 10 words or less explaining why.'},\n        {'role': 'user', 'content': transcript}\n        ],\n        {'temperature': 0, 'max_tokens': 25}\n        )['choices'][0]['messages']::STRING as resolution_with_reason,\n        SNOWFLAKE.CORTEX.COMPLETE(\n        'mistral-large2',\n        CONCAT('Rate the customer service experience from 0 to 10, with 0 being very poor support without resolution \n        and 10 being highly supportive and complete resolution of the issue and a completely happy customer. \n        Return the results with a single integer for the rating followed by a colon and then a reason for the rating.\n        The reason should be 25 words or less.', transcript)\n        ) as customer_service_rating\n    FROM parsed_transcripts;\n\n",
   "execution_count": null
  },
  {
   "cell_type": "code",
   "id": "ebbd0d3e-5bd1-4e67-8174-77118affa849",
   "metadata": {
    "language": "sql",
    "name": "VIEW_ANALYSIS_RESULTS"
   },
   "outputs": [],
   "source": "-- Query the dynamic table\nSELECT * FROM transcript_analysis_results\nLIMIT 10;",
   "execution_count": null
  },
  {
   "cell_type": "markdown",
   "id": "cf8c5e77-ef17-4dfa-a781-a7caa77e821e",
   "metadata": {
    "name": "Main_Issue_DESC",
    "collapsed": false
   },
   "source": "#### Main Issue Analysis\nThis dynamic table extracts the main issue answer and score from the JSON field and adds a confidence level based on the score."
  },
  {
   "cell_type": "code",
   "id": "812f927e-f203-4631-9d83-98d144dd0ac9",
   "metadata": {
    "language": "sql",
    "name": "Main_Issue_DynamicTbl"
   },
   "outputs": [],
   "source": "CREATE OR REPLACE DYNAMIC TABLE main_issue_analysis\n  TARGET_LAG = 'DOWNSTREAM'\n  WAREHOUSE = CORTEX_DEMO_WH\n  REFRESH_MODE = 'AUTO'\nAS\n  SELECT\n    conversation_id,\n    main_issue_json,\n    main_issue_json[0]:answer::STRING as main_issue_answer,\n    main_issue_json[0]:score::FLOAT as main_issue_score,\n    CASE\n      WHEN main_issue_json[0]:score::FLOAT >= 0.7 THEN 'High Confidence'\n      WHEN main_issue_json[0]:score::FLOAT >= 0.3 THEN 'Medium Confidence'\n      ELSE 'Low Confidence'\n    END as main_issue_confidence_level\n  FROM transcript_analysis_results;\n\n",
   "execution_count": null
  },
  {
   "cell_type": "code",
   "id": "e0d40cf6-fead-4bc8-b411-45c3cb3fb47e",
   "metadata": {
    "language": "sql",
    "name": "View_Main_Issue_Results"
   },
   "outputs": [],
   "source": "-- Query the dynamic table\nSELECT * FROM main_issue_analysis LIMIT 10;",
   "execution_count": null
  },
  {
   "cell_type": "markdown",
   "id": "2e64dc02-07e1-4e5e-9bc3-1f8776f576fd",
   "metadata": {
    "name": "Resolution_Desc",
    "collapsed": false
   },
   "source": "#### Resolution and Service Analysis\nThis dynamic table splits the resolution and customer service rating fields into separate columns for easier analysis."
  },
  {
   "cell_type": "code",
   "id": "a5c4a0aa-570f-40b3-9e16-1b05de9d3caf",
   "metadata": {
    "language": "sql",
    "name": "Resolution_DynamicTbl"
   },
   "outputs": [],
   "source": "CREATE OR REPLACE DYNAMIC TABLE resolution_service_analysis\n  TARGET_LAG = 'DOWNSTREAM'\n  WAREHOUSE = CORTEX_DEMO_WH\n  REFRESH_MODE = 'AUTO'\nAS\n  SELECT\n    conversation_id,\n    resolution_with_reason,\n    SPLIT_PART(resolution_with_reason, ':', 1) as resolution,\n    TRIM(SPLIT_PART(resolution_with_reason, ':', 2)) as resolution_reason,\n    customer_service_rating,\n    SPLIT_PART(customer_service_rating, ':', 1) as service_rating,\n    TRIM(SPLIT_PART(customer_service_rating, ':', 2)) as service_rating_reason\n  FROM transcript_analysis_results;\n\n",
   "execution_count": null
  },
  {
   "cell_type": "code",
   "id": "b5e798d2-6996-4305-a868-82edfa4b38f5",
   "metadata": {
    "language": "sql",
    "name": "View_ResolutionTbl"
   },
   "outputs": [],
   "source": "-- Query the resolution and customer service dynamic table\nSELECT * FROM resolution_service_analysis LIMIT 10;",
   "execution_count": null
  },
  {
   "cell_type": "markdown",
   "id": "497cc99b-d12c-4ce4-9a42-c64199d8504a",
   "metadata": {
    "name": "Final_Combination_Desc",
    "collapsed": false
   },
   "source": "#### Final Combined Analysis\nThis final dynamic table combines all three analysis tables into a single comprehensive view, with the device_category field explicitly cast to VARCHAR for better usability."
  },
  {
   "cell_type": "code",
   "id": "2e788672-1754-4416-9d6b-f85d214a9fe1",
   "metadata": {
    "language": "sql",
    "name": "Final_DynamicTbl"
   },
   "outputs": [],
   "source": "CREATE OR REPLACE DYNAMIC TABLE TRANSCRIPT_ANALYSIS_RESULTS_FINAL\n  TARGET_LAG = '1 MINUTE'\n  WAREHOUSE = CORTEX_DEMO_WH\n  REFRESH_MODE = 'AUTO'\nAS\n  SELECT\n    t.source,\n    t.conversation_id,\n    t.start_time,\n    t.end_time,\n    t.agent_name,\n    t.customer_name,\n    t.transcript,\n    t.transcript_summary,\n    t.sentiment_score,\n    t.sentiment_category,\n    t.device_category::VARCHAR as device_category,\n    m.main_issue_answer,\n    m.main_issue_score,\n    m.main_issue_confidence_level,\n    r.resolution,\n    r.resolution_reason,\n    r.service_rating,\n    r.service_rating_reason\n  FROM transcript_analysis_results t\n  JOIN main_issue_analysis m ON t.conversation_id = m.conversation_id\n  JOIN resolution_service_analysis r ON t.conversation_id = r.conversation_id;\n\n",
   "execution_count": null
  },
  {
   "cell_type": "code",
   "id": "cdc5d6bd-35a4-44da-9741-7a44d57d7648",
   "metadata": {
    "language": "sql",
    "name": "View_FinalTbl"
   },
   "outputs": [],
   "source": "  -- Query the combined dynamic table\nSELECT * FROM TRANSCRIPT_ANALYSIS_RESULTS_FINAL LIMIT 10;",
   "execution_count": null
  },
  {
   "cell_type": "markdown",
   "id": "0e64bd10-9f2a-499e-a692-bcc29adf19eb",
   "metadata": {
    "name": "Workflow_Overview",
    "collapsed": false
   },
   "source": "## Usage\n\nThe dynamic tables created by this script can be used for various analytical purposes:\n\n1. **Transcript Analysis Results**: Provides a comprehensive view of all analyses performed on each transcript.\n2. **Main Issue Analysis**: Focuses on the main issues identified in each conversation, with confidence levels.\n3. **Resolution and Service Analysis**: Provides insights into resolution status and customer service ratings.\n4. **Final Combined Analysis**: Offers a complete view of all analyses in a single table, optimized for reporting and dashboard creation.\n\nEach dynamic table automatically refreshes when the source data changes, ensuring that analyses are always up-to-date. "
  }
 ]
}
