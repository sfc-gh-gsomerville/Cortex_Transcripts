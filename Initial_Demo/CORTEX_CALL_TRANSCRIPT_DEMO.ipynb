{
 "metadata": {
  "kernelspec": {
   "display_name": "Streamlit Notebook",
   "name": "streamlit"
  },
  "lastEditStatus": {
   "notebookId": "sqxgcnvmwrv3s67vyorr",
   "authorId": "260115209324",
   "authorName": "GSOMERVILLE",
   "authorEmail": "geoff.somerville@snowflake.com",
   "sessionId": "4dcfc1bb-cca4-4f71-a822-e6c363873781",
   "lastEditTime": 1742827283429
  }
 },
 "nbformat_minor": 5,
 "nbformat": 4,
 "cells": [
  {
   "cell_type": "markdown",
   "id": "9e909203-9741-4aec-aec8-a0e598593147",
   "metadata": {
    "name": "Title1",
    "collapsed": false
   },
   "source": "# Call Center Transcripts - Snowflake Cortex Demo\nThis is a demonstration using synthetic data resembling call center data from a medical supply company.  The demonstration shows the power of Snowflake Cortex and Snowflake Cortex LLM functions.  All LLMs referenced in this demo are being called from within the Snowflake account.  "
  },
  {
   "cell_type": "code",
   "id": "6cfbc2ba-bb8e-41b6-8314-e833dcca6731",
   "metadata": {
    "language": "python",
    "name": "Setup",
    "collapsed": false,
    "codeCollapsed": false,
    "resultHeight": 44
   },
   "outputs": [],
   "source": "#  Copyright (c) 2025 Snowflake Computing Inc. All rights reserved.\n\n# We can also use Snowpark for our analyses!\nimport streamlit as st\nfrom snowflake.snowpark.context import get_active_session\nimport snowflake.snowpark.functions as F\nimport pandas as pd\n\nsession = get_active_session()\n\nprint(session)",
   "execution_count": null
  },
  {
   "cell_type": "markdown",
   "id": "8ba6c04e-8c36-46fe-8614-6a66a7503022",
   "metadata": {
    "name": "Data_Creatiion",
    "collapsed": false
   },
   "source": "### The prompt used to create this data set:\n\"Create a data set that collects data from transcripts for a customers calling into a medical supply company to get support for help using diabetes, wound care, breast pumps and urology care. The dataset should include ID, agent name, customer name, customer phone number, start time, end time and complete conversation transcript.  The transcripts should have both positive and negative sentiment.  Include all 4 supply types above in the across the data set.  Allow there to be 5 to10 agents each with a random number of calls.   Give me 100 records in JSON format.\""
  },
  {
   "cell_type": "code",
   "id": "6a9c4edd-a85f-4388-bd76-9cd7612ea571",
   "metadata": {
    "language": "sql",
    "name": "preview_data",
    "collapsed": false,
    "codeCollapsed": false,
    "resultHeight": 427
   },
   "outputs": [],
   "source": "select * from cortex.transcripts.transcripts_raw_json limit 10;",
   "execution_count": null
  },
  {
   "cell_type": "markdown",
   "id": "a98bc46c-aa44-4615-b971-8c4977c01ee1",
   "metadata": {
    "name": "Semi_Structured_Data",
    "collapsed": false
   },
   "source": "## Working with Semi-Structured Data\nhttps://docs.snowflake.com/en/user-guide/querying-semistructured"
  },
  {
   "cell_type": "code",
   "id": "ae5c358a-0750-46d2-bb49-9c89aee7df4b",
   "metadata": {
    "language": "sql",
    "name": "Dot_Notation"
   },
   "outputs": [],
   "source": "SELECT variant_col:ID::float as ID\n    ,variant_col:Supply_Type::text as supply_type\n    ,TO_TIMESTAMP_NTZ(variant_col:Start_Time::STRING) AS starttime\n    ,TO_TIMESTAMP_NTZ(variant_col:End_Time::STRING) AS endtime\n    ,variant_col:Agent::text as AGENTNAME\n    ,variant_col:Customer::text as CUSTOMERNAME\n    ,variant_col:Phone::text as CUSTOMERPHONE\n    ,variant_col:Transcript::varchar as TRANSCRIPT\nFROM \"CORTEX\".\"TRANSCRIPTS\".\"TRANSCRIPTS_RAW_JSON\" \nLIMIT \n  10;",
   "execution_count": null
  },
  {
   "cell_type": "markdown",
   "id": "3e744852-c92e-4bbc-a3a9-78557b28bafb",
   "metadata": {
    "name": "Title6",
    "collapsed": false
   },
   "source": "## Dynamic Tables\nhttps://docs.snowflake.com/en/user-guide/dynamic-tables-intro\n\\\n*NOTE:  You will need to assign a virtual warehouse in all of the create Dynamic Table cells.  By default, they are currently using the warehouse **\"CORTEX_DEMO_WH\"***"
  },
  {
   "cell_type": "code",
   "id": "4fb286ea-6cee-4372-8aa5-d7309d97cbe7",
   "metadata": {
    "language": "sql",
    "name": "cell1"
   },
   "outputs": [],
   "source": "CREATE OR REPLACE DYNAMIC TABLE TRANSCRIPTS_STRUCTURED\n  TARGET_LAG = DOWNSTREAM\n  WAREHOUSE = CORTEX_DEMO_WH --Update this Warehouse across all cells creating dynamic tables\n  REFRESH_MODE = INCREMENTAL\n  AS\n    SELECT variant_col:ID::float as ID\n        ,variant_col:Supply_Type::text as supply_type\n        ,TO_TIMESTAMP_NTZ(variant_col:Start_Time::STRING) AS starttime\n        ,TO_TIMESTAMP_NTZ(variant_col:End_Time::STRING) AS endtime\n        ,variant_col:Agent::text as AGENTNAME\n        ,variant_col:Customer::text as CUSTOMERNAME\n        ,variant_col:Phone::text as CUSTOMERPHONE\n        ,variant_col:Transcript::varchar as TRANSCRIPT\n    FROM \"CORTEX\".\"TRANSCRIPTS\".\"TRANSCRIPTS_RAW_JSON\" ",
   "execution_count": null
  },
  {
   "cell_type": "code",
   "id": "815e4ba5-80d2-4b74-9a46-cf5211c61de7",
   "metadata": {
    "language": "sql",
    "name": "cell2"
   },
   "outputs": [],
   "source": "SELECT * FROM transcripts_structured LIMIT 10",
   "execution_count": null
  },
  {
   "cell_type": "markdown",
   "id": "113938ad-20c3-4978-976c-8c7a890d7a71",
   "metadata": {
    "name": "Title3",
    "collapsed": false
   },
   "source": "### Cortex Summarize LLM function\nhttps://docs.snowflake.com/en/sql-reference/functions/summarize-snowflake-cortex"
  },
  {
   "cell_type": "code",
   "id": "8d50cbf4-0c8d-4950-86cb-114990437ac9",
   "metadata": {
    "language": "sql",
    "name": "Cortex_SUMMARIZE",
    "collapsed": false,
    "codeCollapsed": false,
    "resultHeight": 252
   },
   "source": "select CUSTOMERNAME\n    ,STARTTIME\n    ,TRANSCRIPT\n    ,snowflake.cortex.summarize(TRANSCRIPT)AS TRANSCRIPT_SUMMARY\nfrom cortex.transcripts.transcripts_structured LIMIT 10;",
   "execution_count": null,
   "outputs": []
  },
  {
   "cell_type": "markdown",
   "id": "bcf3c3f2-feb8-4b22-a5bc-3370f1c7599f",
   "metadata": {
    "name": "Title4",
    "collapsed": false
   },
   "source": "### Cortex Sentiment & Extract Answer LLM Functions\n- https://docs.snowflake.com/en/sql-reference/functions/sentiment-snowflake-cortex\n- https://docs.snowflake.com/en/sql-reference/functions/extract_answer-snowflake-cortex"
  },
  {
   "cell_type": "code",
   "id": "f16a2b4a-dbf6-4ca0-8876-d497fe3b7556",
   "metadata": {
    "language": "sql",
    "name": "Cortex_SENTIMENT"
   },
   "outputs": [],
   "source": "select CUSTOMERNAME\n    ,STARTTIME\n    ,snowflake.cortex.sentiment(TRANSCRIPT) sentiment_transcript\n    ,snowflake.cortex.extract_answer(TRANSCRIPT, 'What is the main topic?(in 8 words or less)') topic\nfrom cortex.transcripts.transcripts_structured LIMIT 10;",
   "execution_count": null
  },
  {
   "cell_type": "markdown",
   "id": "a6f0361b-814e-4071-938f-800baeab447a",
   "metadata": {
    "name": "Title5",
    "collapsed": false
   },
   "source": "### Cortex Complete LLM Function\nhttps://docs.snowflake.com/en/sql-reference/functions/complete-snowflake-cortex"
  },
  {
   "cell_type": "code",
   "id": "943aee20-40fd-4517-9b1e-68d2a59d97d7",
   "metadata": {
    "language": "sql",
    "name": "CORTEX_COMPLETE"
   },
   "outputs": [],
   "source": "select CUSTOMERNAME\n    ,STARTTIME\n    ,SNOWFLAKE.CORTEX.COMPLETE(\n        'mistral-large2',\n        concat('How well did the agent meet the customer needs? (In 20 words or less)', TRANSCRIPT)) AS interaction_overview\n    ,SNOWFLAKE.CORTEX.COMPLETE(\n        'mistral-large2',\n        concat('What is the product category mentioned? (The answer shoudl only be diabetes, wound care, breast pumps, urology care or                 other)', TRANSCRIPT)) AS product_category,\nfrom cortex.transcripts.transcripts_structured LIMIT 10;",
   "execution_count": null
  },
  {
   "cell_type": "code",
   "id": "2b37d0e6-732f-415e-a37c-37f1396bbe21",
   "metadata": {
    "language": "sql",
    "name": "Cortex_Complete_Advanced_Prompt"
   },
   "outputs": [],
   "source": "select CUSTOMERNAME\n    ,STARTTIME\n    ,SNOWFLAKE.CORTEX.COMPLETE(\n        'mistral-large2',\n        concat('Rate the customer service experience from 0 to 10, with 0 being very poor suport without resolution and 10 being highly                 supportive and complete resolution of the issue and a completely happy customer. Return the results with a \n                single integer for the rating and then a reason for the rating in JSON FORMAT without includin the json header or any \n                leading quotes', TRANSCRIPT)) AS interaction_rating\nfrom cortex.transcripts.transcripts_structured LIMIT 10;",
   "execution_count": null
  },
  {
   "cell_type": "code",
   "id": "79478882-8e1a-4d0a-9d58-d83fe658b0b8",
   "metadata": {
    "language": "sql",
    "name": "Combine_ALL_Fileds"
   },
   "outputs": [],
   "source": "select ID\n    ,SUPPLY_TYPE\n    ,AGENTNAME\n    ,CUSTOMERNAME\n    ,STARTTIME\n    ,ENDTIME\n    ,TRANSCRIPT\n    ,snowflake.cortex.summarize(TRANSCRIPT)AS TRANSCRIPT_SUMMARY\n    ,snowflake.cortex.sentiment(TRANSCRIPT) sentiment_transcript\n    ,snowflake.cortex.extract_answer(TRANSCRIPT, 'What is the main topic?') topic\n    ,SNOWFLAKE.CORTEX.COMPLETE(\n        'mistral-large2',\n        concat('How well did the agent meet the customer needs? (In 20 words or less)', TRANSCRIPT)) AS interaction_overview\n    ,SNOWFLAKE.CORTEX.COMPLETE(\n        'mistral-large2',\n        concat('What is the product category mentioned? (In 5 words or less)', TRANSCRIPT)) AS product_category\n    ,SNOWFLAKE.CORTEX.COMPLETE(\n        'mistral-large2',\n        concat('Rate the customer service experience from 0 to 10, with 0 being very poor suport without resolution and 10 being highly                 supportive and complete resolution of the issue and a completely happy customer. Return the results with a \n                single integer for the rating and then a reason for the rating in JSON FORMAT without includin the json header or any \n                leading quotes', TRANSCRIPT)) AS interaction_rating                 \nfrom cortex.transcripts.transcripts_structured \nlimit 10;",
   "execution_count": null
  },
  {
   "cell_type": "code",
   "id": "078f3157-b5d9-46af-95c0-8b22163881ea",
   "metadata": {
    "language": "sql",
    "name": "create_dynamic_table"
   },
   "outputs": [],
   "source": "CREATE OR REPLACE DYNAMIC TABLE cortex.transcripts.transcripts_cortex\n  TARGET_LAG = DOWNSTREAM\n  WAREHOUSE = CORTEX_DEMO_WH\n  REFRESH_MODE = FULL\n  AS\n    SELECT ID \n        ,SUPPLY_TYPE\n        ,AGENTNAME\n        ,CUSTOMERNAME\n        ,STARTTIME\n        ,ENDTIME\n        ,TRANSCRIPT\n        ,snowflake.cortex.summarize(TRANSCRIPT)AS TRANSCRIPT_SUMMARY\n        ,snowflake.cortex.sentiment(TRANSCRIPT) sentiment_transcript\n        ,snowflake.cortex.extract_answer(TRANSCRIPT, 'What is the main topic?') topic\n        ,SNOWFLAKE.CORTEX.COMPLETE(\n            'mistral-large2',\n            concat('How well did the agent meet the customer needs? (In 20 words or less)', TRANSCRIPT)) AS interaction_overview\n        ,SNOWFLAKE.CORTEX.COMPLETE(\n            'mistral-large2',\n            concat('What is the product category mentioned? (In 5 words or less)', TRANSCRIPT)) AS product_category\n        ,SNOWFLAKE.CORTEX.COMPLETE(\n            'mistral-large2',\n            concat('Rate the customer service experience from 0 to 10, with 0 being very poor suport without resolution and 10 being                        highly supportive and complete resolution of the issue and a completely happy customer. Return the results with a \n                    single integer for the rating and then a reason for the rating as JSON\n                    The json should not have a header or a footer', TRANSCRIPT)) AS interaction_rating   \n        FROM cortex.transcripts.transcripts_structured;",
   "execution_count": null
  },
  {
   "cell_type": "code",
   "id": "3040e06c-6c14-4a5e-a718-4c505cc13481",
   "metadata": {
    "language": "sql",
    "name": "view_dynamic_table"
   },
   "outputs": [],
   "source": "SELECT * FROM cortex.transcripts.transcripts_cortex LIMIT 10",
   "execution_count": null
  },
  {
   "cell_type": "markdown",
   "id": "202f7dcc-9cdb-4900-bb6f-a422611faa4a",
   "metadata": {
    "name": "Title7",
    "collapsed": false
   },
   "source": "### Lateral Flatten\n- https://docs.snowflake.com/en/sql-reference/functions/flatten\n- https://docs.snowflake.com/en/sql-reference/constructs/join-lateral\n- https://community.snowflake.com/s/article/Dynamically-extracting-JSON-using-LATERAL-FLATTEN"
  },
  {
   "cell_type": "code",
   "id": "7217fc96-2c00-4d2a-ab4d-3c5a1f0407ed",
   "metadata": {
    "language": "sql",
    "name": "topic_parse"
   },
   "outputs": [],
   "source": "CREATE OR REPLACE DYNAMIC TABLE cortex.transcripts.transcripts_cortex_topic\n  TARGET_LAG = DOWNSTREAM\n  WAREHOUSE = CORTEX_DEMO_WH\n  REFRESH_MODE = FULL\n  AS\n    SELECT ID\n        ,topic\n        ,topic_data.value:\"answer\"::STRING AS topic_answer\n        ,topic_data.value:\"score\"::float AS topic_conf_score\n    FROM cortex.transcripts.transcripts_cortex,\n    LATERAL FLATTEN(input => TOPIC) AS topic_data",
   "execution_count": null
  },
  {
   "cell_type": "code",
   "id": "830fb201-666c-46ff-9ced-25852b695221",
   "metadata": {
    "language": "sql",
    "name": "view_topic_parse"
   },
   "outputs": [],
   "source": "SELECT * FROM cortex.transcripts.transcripts_cortex_topic LIMIT 10",
   "execution_count": null
  },
  {
   "cell_type": "markdown",
   "id": "95ee4346-7f0c-4f08-8ff9-a4b6f82b68dd",
   "metadata": {
    "name": "Title8",
    "collapsed": false
   },
   "source": "### Parse_JSON\nhttps://docs.snowflake.com/en/sql-reference/functions/parse_json"
  },
  {
   "cell_type": "code",
   "id": "5016c5fb-a632-4a67-b2b4-89e0151de211",
   "metadata": {
    "language": "sql",
    "name": "interaction_rating_parse_JSON"
   },
   "outputs": [],
   "source": "CREATE OR REPLACE DYNAMIC TABLE cortex.transcripts.transcripts_cortex_interaction\n  TARGET_LAG = DOWNSTREAM\n  WAREHOUSE = CORTEX_DEMO_WH\n  REFRESH_MODE = FULL\n  AS\n    SELECT ID\n        ,INTERACTION_RATING\n        ,REPLACE(INTERACTION_RATING, '```', '') AS a --Make proper JSON data:  Step 1\n        ,PARSE_JSON(a):\"rating\"::INT AS interaction_rating_value\n        ,PARSE_JSON(a):\"reason\"::STRING AS interaction_reason\n    FROM TRANSCRIPTS_CORTEX",
   "execution_count": null
  },
  {
   "cell_type": "code",
   "id": "6c433872-9d8e-4df4-8b9c-cb7e0180ba3f",
   "metadata": {
    "language": "sql",
    "name": "view_interaction_rating"
   },
   "outputs": [],
   "source": "SELECT * FROM cortex.transcripts.transcripts_cortex_interaction LIMIT 10",
   "execution_count": null
  },
  {
   "cell_type": "code",
   "id": "c8c8a4c3-4260-4aeb-9ff3-8f71aa25144f",
   "metadata": {
    "language": "sql",
    "name": "Final_Output"
   },
   "outputs": [],
   "source": "CREATE OR REPLACE DYNAMIC TABLE cortex.transcripts.transcripts_cortex_final\n  TARGET_LAG = '5 minutes'\n  WAREHOUSE = CORTEX_DEMO_WH\n  REFRESH_MODE = FULL\n  AS\n    SELECT a.ID\n        ,a.supply_type\n        ,a.product_category\n        ,b.topic_answer as topic_summary\n        ,b.topic_conf_score\n        ,agentname\n        ,customername\n        ,starttime\n        ,endtime\n        ,transcript_summary\n        ,sentiment_transcript\n        ,interaction_overview\n        ,c.interaction_rating_value\n        ,c.interaction_reason\n        ,a.transcript\n    FROM cortex.transcripts.transcripts_cortex a\n        INNER JOIN cortex.transcripts.transcripts_cortex_topic b ON a.ID = b.ID\n        INNER JOIN cortex.transcripts.transcripts_cortex_interaction c ON a.ID = c.ID",
   "execution_count": null
  },
  {
   "cell_type": "code",
   "id": "7fb098e2-edae-4607-932d-bdf72183e604",
   "metadata": {
    "language": "sql",
    "name": "view_final_output"
   },
   "outputs": [],
   "source": "SELECT * FROM cortex.transcripts.transcripts_cortex_final LIMIT 10",
   "execution_count": null
  },
  {
   "cell_type": "markdown",
   "id": "d8bb06b5-a28a-4359-90dc-362fba95f53e",
   "metadata": {
    "name": "Streamlit_Charts",
    "collapsed": false
   },
   "source": "## Integrating Streamlit into a Notebook\nhttps://docs.snowflake.com/en/developer-guide/streamlit/about-streamlit"
  },
  {
   "cell_type": "code",
   "id": "4bba8477-646a-4a3a-8fc0-a9a75739ef10",
   "metadata": {
    "language": "python",
    "name": "chart_1"
   },
   "outputs": [],
   "source": "st.write(\"Transcripts by Category\")\nbar_sql = f\"\"\"SELECT \"SUPPLY_TYPE\", COUNT(\"ID\") AS CNT FROM TRANSCRIPTS_CORTEX_FINAL GROUP BY \"SUPPLY_TYPE\" ORDER BY 2 DESC\"\"\"\nbdf = session.sql(bar_sql)\nst.bar_chart(data=(bdf),x=\"SUPPLY_TYPE\",height=300, width=100)",
   "execution_count": null
  },
  {
   "cell_type": "code",
   "id": "b2b6e69d-2851-40be-b28f-19ceca156022",
   "metadata": {
    "language": "sql",
    "name": "cell4"
   },
   "outputs": [],
   "source": "SELECT \"AGENTNAME\", AVG(\"SENTIMENT_TRANSCRIPT\") AS SENTIMENT FROM TRANSCRIPTS_CORTEX_FINAL GROUP BY \"AGENTNAME\" ORDER BY 2 DESC",
   "execution_count": null
  },
  {
   "cell_type": "markdown",
   "id": "10e1ce97-7e70-4baf-abee-558b48b53da7",
   "metadata": {
    "name": "cell5",
    "collapsed": false
   },
   "source": ""
  },
  {
   "cell_type": "code",
   "id": "01be8f80-ba86-477a-a8c8-742b6a516a50",
   "metadata": {
    "language": "sql",
    "name": "cell8"
   },
   "outputs": [],
   "source": "SELECT \"AGENTNAME\", AVG(\"SENTIMENT_TRANSCRIPT\") FROM TRANSCRIPTS_CORTEX_FINAL GROUP BY \"AGENTNAME\" ORDER BY 2 DESC",
   "execution_count": null
  },
  {
   "cell_type": "code",
   "id": "d63f8ef5-9f45-478c-99f8-32b41b09bd3a",
   "metadata": {
    "language": "python",
    "name": "chart_2"
   },
   "outputs": [],
   "source": "st.write(\"Transcript Sentiment\")\nbar_sql = f\"\"\"SELECT \"AGENTNAME\", AVG(\"SENTIMENT_TRANSCRIPT\") AS SENTIMENT FROM TRANSCRIPTS_CORTEX_FINAL GROUP BY \"AGENTNAME\" ORDER BY 2 DESC\"\"\"\nbdf = session.sql(bar_sql)\nst.bar_chart(\n    data=(bdf),\n    x=\"AGENTNAME\",\n    height=300,\n    width=100,\n    use_container_width=True,\n    color=\"#3fb4d5\"\n)",
   "execution_count": null
  },
  {
   "cell_type": "code",
   "id": "eaf2d7e3-8738-4211-bb0a-4d7f2a5796f1",
   "metadata": {
    "language": "python",
    "name": "cell6"
   },
   "outputs": [],
   "source": "import plotly.express as px\n\nbar_sql = f\"\"\"SELECT \"AGENTNAME\", AVG(\"SENTIMENT_TRANSCRIPT\") AS SENTIMENT FROM TRANSCRIPTS_CORTEX_FINAL GROUP BY \"AGENTNAME\" ORDER BY 2 DESC\"\"\"\nbdf = session.sql(bar_sql)\n\nfig = px.bar(bdf, \n             x='SENTIMENT', \n             y='AGENTNAME',\n             orientation='h')  # This creates a horizontal bar chart\nst.plotly_chart(fig, use_container_width=True)",
   "execution_count": null
  },
  {
   "cell_type": "code",
   "id": "a684684e-199d-4f90-9d8c-065f61ea276e",
   "metadata": {
    "language": "python",
    "name": "cell3"
   },
   "outputs": [],
   "source": "st.write(\"Binned Sentiment Distribution\")\n\n# SQL query to bin sentiment into 4 categories\nbar_sql = \"\"\"\nSELECT \n    CASE        \n        WHEN \"SENTIMENT_TRANSCRIPT\" >= -1 AND \"SENTIMENT_TRANSCRIPT\" < -0.5 THEN '-1 to -0.5'\n        WHEN \"SENTIMENT_TRANSCRIPT\" >= -0.5 AND \"SENTIMENT_TRANSCRIPT\" < 0 THEN '-0.5 to 0'\n        WHEN \"SENTIMENT_TRANSCRIPT\" >= 0 AND \"SENTIMENT_TRANSCRIPT\" < 0.5 THEN '0 to 0.5'\n        WHEN \"SENTIMENT_TRANSCRIPT\" >= 0.5 AND \"SENTIMENT_TRANSCRIPT\" <= 1 THEN '0.5 to 1'\n    END AS sentiment_bin,\n    COUNT(\"ID\") AS CNT\nFROM TRANSCRIPTS_CORTEX_FINAL\nGROUP BY sentiment_bin\nORDER BY sentiment_bin;\n\"\"\"\n\n# Execute query\nbdf = session.sql(bar_sql).to_pandas()\n\n# Plot bar chart\nst.bar_chart(\n    data=bdf,\n    x=\"SENTIMENT_BIN\",\n    y=\"CNT\",\n    height=300,\n    use_container_width=True,\n    color=\"#3fb4d5\"\n)",
   "execution_count": null
  },
  {
   "cell_type": "code",
   "id": "972d55fd-de81-4bd6-8f60-ebcb5f4812ac",
   "metadata": {
    "language": "python",
    "name": "Chart_3"
   },
   "outputs": [],
   "source": "st.write(\"Interaction Ratings\")\nbar_sql = f\"\"\"SELECT \"INTERACTION_RATING_VALUE\", COUNT(\"ID\") AS CNT FROM TRANSCRIPTS_CORTEX_FINAL GROUP BY \"INTERACTION_RATING_VALUE\" ORDER BY 2 DESC\"\"\"\nbdf = session.sql(bar_sql)\nst.bar_chart(data=(bdf),x=\"INTERACTION_RATING_VALUE\",height=300, width=100)",
   "execution_count": null
  }
 ]
}
